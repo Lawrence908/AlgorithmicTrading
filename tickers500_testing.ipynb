{
 "cells": [
  {
   "cell_type": "code",
   "execution_count": 6,
   "metadata": {},
   "outputs": [],
   "source": [
    "import requests\n",
    "from bs4 import BeautifulSoup\n",
    "import yfinance as yf\n",
    "import pandas as pd\n",
    "\n",
    "\n",
    "# I want to create a class that will:\n",
    "# - get the tickers of the S&P 500 companies\n",
    "# - iterate over the tickers and get the data of each ticker\n",
    "# - store the data in a pandas DataFrame, save it as a csv file\n",
    "# - another function to update the data of the tickers before returning the data\n",
    "\n",
    "class Tickers500:\n",
    "    def __init__(self):\n",
    "        self.tickers = self.get_tickers()\n",
    "        \n",
    "    def get_tickers(self):\n",
    "        url = 'https://en.wikipedia.org/wiki/List_of_S%26P_500_companies'\n",
    "        response = requests.get(url)\n",
    "        soup = BeautifulSoup(response.content, 'html.parser')\n",
    "        table = soup.find('table', {'id': 'constituents'})\n",
    "        tickers500 = []\n",
    "        for row in table.find_all('tr')[1:]:\n",
    "            ticker = row.find('td').text.strip()\n",
    "            tickers500.append(ticker)\n",
    "        return tickers500\n",
    "\n",
    "    # remove progress bar\n",
    "    def get_data(self):\n",
    "        for ticker in self.tickers:\n",
    "            if '.' in ticker:\n",
    "                ticker = ticker.replace('.', '-')\n",
    "            data = yf.download(ticker, progress=False)\n",
    "            data.to_csv(\"TickerData/\"f'{ticker}.csv')\n",
    "\n",
    "    def update_data(self):\n",
    "        for ticker in self.tickers:\n",
    "            if '.' in ticker:\n",
    "                ticker = ticker.replace('.', '-')\n",
    "            recent_date = pd.read_csv(\"TickerData/\"f'{ticker}.csv').tail(1).index[0]\n",
    "            recent_date = pd.read_csv(\"TickerData/\"f'{ticker}.csv').iloc[recent_date].Date\n",
    "            recent_date = pd.to_datetime(recent_date)\n",
    "            recent_date = recent_date + pd.DateOffset(days=1)\n",
    "            data = yf.download(ticker, start=recent_date, progress=False)\n",
    "            data.to_csv(\"TickerData/\"f'{ticker}.csv', mode='a', header=False)\n",
    "\n",
    "    def load_ticker_data_to_df(self, ticker):\n",
    "        return pd.read_csv(\"TickerData/\"f'{ticker}.csv')\n"
   ]
  },
  {
   "cell_type": "code",
   "execution_count": 7,
   "metadata": {},
   "outputs": [],
   "source": [
    "tickers500 = Tickers500()"
   ]
  },
  {
   "cell_type": "code",
   "execution_count": 4,
   "metadata": {},
   "outputs": [],
   "source": [
    "tickers500.get_data()"
   ]
  },
  {
   "cell_type": "code",
   "execution_count": 8,
   "metadata": {},
   "outputs": [],
   "source": [
    "tickers500.update_data()"
   ]
  }
 ],
 "metadata": {
  "kernelspec": {
   "display_name": ".venv",
   "language": "python",
   "name": "python3"
  },
  "language_info": {
   "codemirror_mode": {
    "name": "ipython",
    "version": 3
   },
   "file_extension": ".py",
   "mimetype": "text/x-python",
   "name": "python",
   "nbconvert_exporter": "python",
   "pygments_lexer": "ipython3",
   "version": "3.12.2"
  }
 },
 "nbformat": 4,
 "nbformat_minor": 2
}
