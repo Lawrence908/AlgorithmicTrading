{
 "cells": [
  {
   "cell_type": "code",
   "execution_count": null,
   "metadata": {},
   "outputs": [],
   "source": [
    "import pandas as pd\n",
    "from tickers500 import tickers500\n",
    "from tickerTA import Ticker\n",
    "from tickerTA import TechnicalAnalysis\n",
    "from tradingStrategy1 import TradingStrategy1\n",
    "from moonShot2 import MoonShot2\n",
    "from recommendations import Recommendations\n",
    "import streamlit as st"
   ]
  },
  {
   "cell_type": "code",
   "execution_count": null,
   "metadata": {},
   "outputs": [],
   "source": [
    "# tradingstrategy1_df = pd.DataFrame()\n",
    "# all_signals_df = pd.DataFrame()\n",
    "full_buytable_df = pd.DataFrame()\n",
    "\n",
    "for ticker in tickers500[0:500]:\n",
    "        if ticker == 'GEV':\n",
    "            continue\n",
    "        if ticker == 'SOLV':\n",
    "            continue\n",
    "        stock = Ticker(ticker, start='2022-01-31', end='2024-01-31')\n",
    "        techA = TechnicalAnalysis(stock)\n",
    "        tradingS = TradingStrategy1(techA, 'FinalPrototype')\n",
    "        # all_signals_df = all_signals_df._append(tradingS.all_signals_df)\n",
    "        # tradingstrategy1_df = tradingstrategy1_df._append(tradingS.trades_df)\n",
    "        full_buytable_df = full_buytable_df._append(tradingS.buytable_df)\n",
    "\n"
   ]
  },
  {
   "cell_type": "code",
   "execution_count": null,
   "metadata": {},
   "outputs": [],
   "source": [
    "moonShot2 = MoonShot2(full_buytable_df)"
   ]
  },
  {
   "cell_type": "code",
   "execution_count": null,
   "metadata": {},
   "outputs": [],
   "source": [
    "moonShot2.output_results()"
   ]
  },
  {
   "cell_type": "code",
   "execution_count": null,
   "metadata": {},
   "outputs": [],
   "source": [
    "moonShot2.plot_loss()"
   ]
  },
  {
   "cell_type": "code",
   "execution_count": null,
   "metadata": {},
   "outputs": [],
   "source": [
    "moonShot2.plot_accuracy()\n"
   ]
  },
  {
   "cell_type": "code",
   "execution_count": null,
   "metadata": {},
   "outputs": [],
   "source": [
    "moonShot2.plot_roc_curve()"
   ]
  },
  {
   "cell_type": "code",
   "execution_count": null,
   "metadata": {},
   "outputs": [],
   "source": [
    "moonShot2.pickle_model()"
   ]
  }
 ],
 "metadata": {
  "kernelspec": {
   "display_name": ".venv",
   "language": "python",
   "name": "python3"
  },
  "language_info": {
   "codemirror_mode": {
    "name": "ipython",
    "version": 3
   },
   "file_extension": ".py",
   "mimetype": "text/x-python",
   "name": "python",
   "nbconvert_exporter": "python",
   "pygments_lexer": "ipython3",
   "version": "3.12.2"
  }
 },
 "nbformat": 4,
 "nbformat_minor": 2
}
