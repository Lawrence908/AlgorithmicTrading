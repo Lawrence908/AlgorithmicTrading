{
 "cells": [
  {
   "cell_type": "code",
   "execution_count": 1,
   "metadata": {},
   "outputs": [
    {
     "name": "stderr",
     "output_type": "stream",
     "text": [
      "/workspaces/AlgorithmicTrading/.venv/lib/python3.10/site-packages/tqdm/auto.py:21: TqdmWarning: IProgress not found. Please update jupyter and ipywidgets. See https://ipywidgets.readthedocs.io/en/stable/user_install.html\n",
      "  from .autonotebook import tqdm as notebook_tqdm\n"
     ]
    }
   ],
   "source": [
    "import sys\n",
    "import yfinance as yf\n",
    "import requests\n",
    "from bs4 import BeautifulSoup\n",
    "from prophet import Prophet\n",
    "from pandas.plotting import autocorrelation_plot\n",
    "import seaborn as sns\n",
    "import pandas as pd\n",
    "import numpy as np\n",
    "import matplotlib.pyplot as plt\n",
    "import ta\n",
    "import pandas_datareader as pdr\n",
    "import pytictoc as tt\n",
    "import plotly\n",
    "from tickerTA import Ticker\n",
    "from tickerTA import TechnicalAnalysis\n",
    "from tradingStrategy1 import TradingStrategy1\n",
    "\n",
    "# This is to avoid the SettingWithCopyWarning in pandas\n",
    "pd.options.mode.copy_on_write = True "
   ]
  },
  {
   "cell_type": "code",
   "execution_count": 2,
   "metadata": {},
   "outputs": [],
   "source": [
    "def get_tickers500():\n",
    "    url = 'https://en.wikipedia.org/wiki/List_of_S%26P_500_companies'\n",
    "    response = requests.get(url)\n",
    "    soup = BeautifulSoup(response.content, 'html.parser')\n",
    "    table = soup.find('table', {'id': 'constituents'})\n",
    "    tickers500 = []\n",
    "    for row in table.find_all('tr')[1:]:\n",
    "        ticker = row.find('td').text.strip()\n",
    "        tickers500.append(ticker)\n",
    "    return tickers500\n",
    "\n",
    "def add_z_score(data: pd.DataFrame, frame: str = 'Adj Close', window1 = 20) -> pd.DataFrame:\n",
    "    data['Z Score ' + frame] = (data[frame] - data[frame].rolling(window= window1).mean()) / data[frame].rolling(window= window1).std()\n",
    "    data.dropna(inplace=True)\n",
    "    return data\n",
    "\n",
    "def get_z_score(data: pd.DataFrame, frame: str = 'Adj Close', window1 = 20) -> pd.DataFrame:\n",
    "    data['Z Score ' + frame] = (data[frame] - data[frame].rolling(window= window1).mean()) / data[frame].rolling(window= window1).std()\n",
    "    data.dropna(inplace=True)\n",
    "    return data['Z Score ' + frame]\n",
    "\n",
    "def plot_total_cum_profit(self, start='2022-01-31', end='2024-01-31'):\n",
    "    self['Total Cum Profit %'] = self['Profit %'].cumsum()\n",
    "    self.reset_index(inplace=True)\n",
    "    self.index = pd.to_datetime(self['Buy Date'])\n",
    "    plt.figure(figsize=(20, 10))\n",
    "    plt.plot(self['Buy Date'], self['Total Cum Profit %'], drawstyle=\"steps-post\", label='Total Cumulative Profit', alpha=1)\n",
    "\n",
    "    spy_df = yf.download('SPY', start, end, progress=False)\n",
    "    spy_df['Control'] = spy_df['Close'] - spy_df['Open']\n",
    "    spy_df['Control %'] = (spy_df['Control'] / spy_df['Open']) * 100\n",
    "    spy_df['Control Cumulative %'] = spy_df['Control %'].cumsum()\n",
    "    plt.plot(spy_df['Control Cumulative %'], drawstyle=\"steps-post\", label='SPY', alpha=0.8)\n",
    "\n",
    "    plt.title('Total Cumulative Profit % vs SPY')\n",
    "    plt.legend(loc='upper left')\n",
    "    plt.savefig('tradingStrategy1/total_cum_profit.png')\n",
    "    # plt.show()\n",
    "\n",
    "    plt.close()"
   ]
  },
  {
   "cell_type": "code",
   "execution_count": 3,
   "metadata": {},
   "outputs": [
    {
     "name": "stdout",
     "output_type": "stream",
     "text": [
      "Buy Date\n",
      "2022-04-19     4.30\n",
      "2022-06-13     6.41\n",
      "2022-08-29     2.29\n",
      "2022-12-16   -10.33\n",
      "2023-05-17     1.27\n",
      "2023-09-26     0.71\n",
      "2022-04-01    -3.38\n",
      "2022-08-29   -10.03\n",
      "2022-12-16    -3.29\n",
      "2023-06-01    16.02\n",
      "2023-08-21    16.59\n",
      "Name: Total Cum Profit %, dtype: float64\n"
     ]
    }
   ],
   "source": [
    "\n",
    "if __name__ == '__main__':\n",
    "    tickers500 = get_tickers500()\n",
    "    stock_df = pd.DataFrame()\n",
    "    tradingstrategy1_df = pd.DataFrame()\n",
    "\n",
    "    for ticker in tickers500[0:2]:\n",
    "        stock = Ticker(ticker, start='2022-01-31', end='2024-01-31')\n",
    "        stock_df = stock_df._append(stock.df)\n",
    "        techA = TechnicalAnalysis(stock)\n",
    "        tradingS = TradingStrategy1(techA)\n",
    "        tradingstrategy1_df = tradingstrategy1_df._append(tradingS.trades_df)\n",
    "\n",
    "    plot_total_cum_profit(tradingstrategy1_df)\n",
    "    print(tradingstrategy1_df['Total Cum Profit %'])\n",
    "\n"
   ]
  }
 ],
 "metadata": {
  "kernelspec": {
   "display_name": ".venv",
   "language": "python",
   "name": "python3"
  },
  "language_info": {
   "codemirror_mode": {
    "name": "ipython",
    "version": 3
   },
   "file_extension": ".py",
   "mimetype": "text/x-python",
   "name": "python",
   "nbconvert_exporter": "python",
   "pygments_lexer": "ipython3",
   "version": "3.10.13"
  }
 },
 "nbformat": 4,
 "nbformat_minor": 2
}
