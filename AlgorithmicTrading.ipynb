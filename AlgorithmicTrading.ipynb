{
 "cells": [
  {
   "cell_type": "markdown",
   "metadata": {},
   "source": [
    "# PyStock Analyzer\n",
    "---\n",
    "### Algorithmic Trading program\n",
    "\n",
    "This program implements algorithmic trading strategies to automate the buying and selling of financial instruments. It uses various technical indicators and market data to make trading decisions. The program is designed to execute trades based on predefined rules and parameters.\n"
   ]
  },
  {
   "cell_type": "markdown",
   "metadata": {},
   "source": [
    "### Create a virtual environment, install requirements and import necessary libraries:\n",
    "\n"
   ]
  },
  {
   "cell_type": "code",
   "execution_count": null,
   "metadata": {},
   "outputs": [
    {
     "ename": "",
     "evalue": "",
     "output_type": "error",
     "traceback": [
      "\u001b[1;31mRunning cells with '.venv' requires the ipykernel package.\n",
      "\u001b[1;31mRun the following command to install 'ipykernel' into the Python environment. \n",
      "\u001b[1;31mCommand: '\"c:/Users/chris/Documents/Unreal Projects/AlgorithmicTrading/.venv/bin/python.exe\" -m pip install ipykernel -U --force-reinstall'"
     ]
    }
   ],
   "source": [
    "import sys\n",
    "import yfinance as yf\n",
    "\n",
    "# import finplot as fplt\n",
    "\n",
    "import yahoo_fin as yfin\n",
    "from yfinance import Tickers\n",
    "import pandas as pd\n",
    "import numpy as np\n",
    "import matplotlib.pyplot as plt\n",
    "import ta\n",
    "import pandas_datareader as pdr\n",
    "import pytictoc as tt"
   ]
  },
  {
   "cell_type": "markdown",
   "metadata": {},
   "source": [
    "### Define Ticker Class:\n",
    "---\n",
    "Using the yfinance API we can create our own Ticker class with all of the data and modules of the API available to us along with our own."
   ]
  },
  {
   "cell_type": "code",
   "execution_count": null,
   "metadata": {},
   "outputs": [
    {
     "ename": "",
     "evalue": "",
     "output_type": "error",
     "traceback": [
      "\u001b[1;31mRunning cells with '.venv' requires the ipykernel package.\n",
      "\u001b[1;31mRun the following command to install 'ipykernel' into the Python environment. \n",
      "\u001b[1;31mCommand: '\"c:/Users/chris/Documents/Unreal Projects/AlgorithmicTrading/.venv/bin/python.exe\" -m pip install ipykernel -U --force-reinstall'"
     ]
    }
   ],
   "source": [
    "class Ticker:\n",
    "    def __init__(self, symbol, start=pd.to_datetime('today') - pd.DateOffset(months=12), end=pd.to_datetime('today')):\n",
    "        self.symbol = symbol\n",
    "        self.start = start\n",
    "        self.end = end\n",
    "        if '.' in self.symbol:\n",
    "            self.symbol = self.symbol.replace('.', '-')\n",
    "        self.df = yf.download(self.symbol, self.start, self.end, progress=False)\n",
    "        if self.df.empty:\n",
    "            print(\"No data found for \", self.symbol)\n",
    "            sys.exit(1)\n",
    "        else:\n",
    "            self.yfTicker = yf.Ticker(self.symbol)\n",
    "            self.actions = self.yfTicker.get_actions()\n",
    "            self.info = self.yfTicker.get_info()\n",
    "            self.balance_sheet = self.yfTicker.get_balance_sheet()\n",
    "            self.income_statement = self.yfTicker.get_income_stmt()\n",
    "            self.cashflow_statement = self.yfTicker.get_cashflow()\n",
    "            self.calendar = self.yfTicker.get_calendar()\n",
    "            self.inst_holders = self.yfTicker.get_institutional_holders()\n",
    "            self.news = self.yfTicker.get_news()\n",
    "            self.recommendations = self.yfTicker.get_recommendations()\n",
    "            try:\n",
    "                self.analysis = self.yfTicker.get_analysis()\n",
    "            except:\n",
    "                self.analysis = None\n",
    "            try:\n",
    "                self.sustainability = self.yfTicker.get_sustainability()\n",
    "            except:\n",
    "                self.sustainability = None\n",
    "            self.profitability = self.get_profitability()\n",
    "\n",
    "    def __str__(self):\n",
    "        return self.symbol\n",
    "\n",
    "    def __repr__(self):\n",
    "        return self.symbol\n",
    "    \n",
    "    def get_profitability(self):\n",
    "        years = self.balance_sheet.columns\n",
    "        self.total_assets = self.balance_sheet[years[0]]['TotalAssets']\n",
    "\n",
    "\n"
   ]
  },
  {
   "cell_type": "markdown",
   "metadata": {},
   "source": [
    "### Get Financial Data"
   ]
  },
  {
   "cell_type": "code",
   "execution_count": null,
   "metadata": {},
   "outputs": [
    {
     "ename": "",
     "evalue": "",
     "output_type": "error",
     "traceback": [
      "\u001b[1;31mRunning cells with '.venv' requires the ipykernel package.\n",
      "\u001b[1;31mRun the following command to install 'ipykernel' into the Python environment. \n",
      "\u001b[1;31mCommand: '\"c:/Users/chris/Documents/Unreal Projects/AlgorithmicTrading/.venv/bin/python.exe\" -m pip install ipykernel -U --force-reinstall'"
     ]
    }
   ],
   "source": [
    "class Signals:\n",
    "\n",
    "    def __init__(self, ticker):\n",
    "        self.ticker = ticker\n",
    "        self.data = self.ticker.Ticker.history(period=\"1y\")\n",
    "        self.data['SMA_20'] = ta.trend.sma_indicator(self.data['Close'], window=20)\n",
    "        self.data['SMA_50'] = ta.trend.sma_indicator(self.data['Close'], window=50)\n",
    "        self.data['SMA_200'] = ta.trend.sma_indicator(self.data['Close'], window=200)\n",
    "        self.data['RSI'] = ta.momentum.rsi(self.data['Close'])\n",
    "        self.data['MACD'] = ta.trend.macd_diff(self.data['Close'])\n",
    "        self.data['MACD_signal'] = ta.trend.macd_signal(self.data['Close'])\n",
    "        self.data['MACD_hist'] = ta.trend.macd_diff(self.data['Close']) - ta.trend.macd_signal(self.data['Close'])\n",
    "        self.data['Bollinger'] = ta.volatility.bollinger_hband(self.data['Close'])\n",
    "        self.data['Bollinger'] = ta.volatility.bollinger_lband(self.data['Close'])\n",
    "        self.data['Bollinger'] = ta.volatility.bollinger_mavg(self.data['Close'])\n",
    "        self.data['Bollinger'] = ta.volatility.bollinger_hband_indicator(self.data['Close'])\n",
    "        self.data['Bollinger'] = ta.volatility.bollinger_lband_indicator(self.data['Close'])\n",
    "        self.data['Bollinger'] = ta.volatility.bollinger_wband(self.data['Close'])\n",
    "        self.data['Bollinger'] = ta.volatility.bollinger_wband(self.data['Close'])\n",
    "\n",
    "    def __str__(self):\n",
    "        return self.ticker.symbol\n",
    "\n",
    "    def __repr__(self):\n",
    "        return self.ticker.symbol\n",
    "\n",
    "    def plot(self):\n",
    "        plt.figure(figsize=(20, 10))\n",
    "        plt.plot(self.data['Close'], label='Close Price', alpha=0.35)\n",
    "        plt.plot(self.data['SMA_20'], label='SMA_20', alpha=0.35)\n",
    "        plt.plot(self.data['SMA_50'], label='SMA_50', alpha=0.35)\n",
    "        plt.plot(self.data['SMA_200'], label='SMA_200', alpha=0.35)\n",
    "        plt.title(f'{self.ticker.symbol} Close Price History')\n",
    "        plt.xlabel('Date')\n",
    "        plt.legend(loc='upper left')\n",
    "\n"
   ]
  },
  {
   "cell_type": "code",
   "execution_count": null,
   "metadata": {},
   "outputs": [
    {
     "ename": "",
     "evalue": "",
     "output_type": "error",
     "traceback": [
      "\u001b[1;31mRunning cells with '.venv' requires the ipykernel package.\n",
      "\u001b[1;31mRun the following command to install 'ipykernel' into the Python environment. \n",
      "\u001b[1;31mCommand: '\"c:/Users/chris/Documents/Unreal Projects/AlgorithmicTrading/.venv/bin/python.exe\" -m pip install ipykernel -U --force-reinstall'"
     ]
    }
   ],
   "source": [
    "aapl = Ticker('AAPL')\n",
    "\n",
    "yf"
   ]
  },
  {
   "cell_type": "markdown",
   "metadata": {},
   "source": [
    "## Fundamental Analysis\n",
    "---\n",
    "[Piotroski F-score](https://en.wikipedia.org/wiki/Piotroski_F-score)\n"
   ]
  },
  {
   "cell_type": "markdown",
   "metadata": {},
   "source": []
  }
 ],
 "metadata": {
  "kernelspec": {
   "display_name": ".venv",
   "language": "python",
   "name": "python3"
  },
  "language_info": {
   "codemirror_mode": {
    "name": "ipython",
    "version": 3
   },
   "file_extension": ".py",
   "mimetype": "text/x-python",
   "name": "python",
   "nbconvert_exporter": "python",
   "pygments_lexer": "ipython3",
   "version": "3.10.6"
  }
 },
 "nbformat": 4,
 "nbformat_minor": 2
}
